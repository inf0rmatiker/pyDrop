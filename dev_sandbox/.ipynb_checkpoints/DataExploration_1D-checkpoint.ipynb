{
 "cells": [
  {
   "cell_type": "markdown",
   "id": "f00cf5bf",
   "metadata": {},
   "source": [
    "# Milestone 1: Data Exploration\n",
    "### Install Hints\n",
    "Make sure to install your conda environment using the doc/envs/pydrop_dev.yml file for the most consistent results\n",
    "### Goals\n",
    "The goals of this notebook are to:\n",
    "1. Begin plotting the data from a single channel and visualize the distribution and spread of samples. \n",
    "2. Obtain basic descriptive statistics and attempt to fit a normal distribution to gauge spread.\n",
    "3. Code an initial clustering proof-of-concept to begin modeling progress. "
   ]
  },
  {
   "cell_type": "code",
   "execution_count": 1,
   "id": "7bdae44b",
   "metadata": {},
   "outputs": [
    {
     "name": "stderr",
     "output_type": "stream",
     "text": [
      "C:\\Users\\markr\\anaconda3\\lib\\site-packages\\numpy\\__init__.py:148: UserWarning: mkl-service package failed to import, therefore Intel(R) MKL initialization ensuring its correct out-of-the box operation under condition when Gnu OpenMP had already been loaded by Python process is not assured. Please install mkl-service package, see http://github.com/IntelPython/mkl-service\n",
      "  from . import _distributor_init\n"
     ]
    },
    {
     "ename": "ImportError",
     "evalue": "\n\nIMPORTANT: PLEASE READ THIS FOR ADVICE ON HOW TO SOLVE THIS ISSUE!\n\nImporting the numpy C-extensions failed. This error can happen for\nmany reasons, often due to issues with your setup or how NumPy was\ninstalled.\n\nWe have compiled some common reasons and troubleshooting tips at:\n\n    https://numpy.org/devdocs/user/troubleshooting-importerror.html\n\nPlease note and check the following:\n\n  * The Python version is: Python3.9 from \"C:\\Users\\markr\\anaconda3\\python.exe\"\n  * The NumPy version is: \"1.21.5\"\n\nand make sure that they are the versions you expect.\nPlease carefully study the documentation linked above for further help.\n\nOriginal error was: DLL load failed while importing _multiarray_umath: The specified module could not be found.\n",
     "output_type": "error",
     "traceback": [
      "\u001b[1;31m---------------------------------------------------------------------------\u001b[0m",
      "\u001b[1;31mImportError\u001b[0m                               Traceback (most recent call last)",
      "\u001b[1;32m~\\anaconda3\\lib\\site-packages\\numpy\\core\\__init__.py\u001b[0m in \u001b[0;36m<module>\u001b[1;34m\u001b[0m\n\u001b[0;32m     21\u001b[0m \u001b[1;32mtry\u001b[0m\u001b[1;33m:\u001b[0m\u001b[1;33m\u001b[0m\u001b[1;33m\u001b[0m\u001b[0m\n\u001b[1;32m---> 22\u001b[1;33m     \u001b[1;32mfrom\u001b[0m \u001b[1;33m.\u001b[0m \u001b[1;32mimport\u001b[0m \u001b[0mmultiarray\u001b[0m\u001b[1;33m\u001b[0m\u001b[1;33m\u001b[0m\u001b[0m\n\u001b[0m\u001b[0;32m     23\u001b[0m \u001b[1;32mexcept\u001b[0m \u001b[0mImportError\u001b[0m \u001b[1;32mas\u001b[0m \u001b[0mexc\u001b[0m\u001b[1;33m:\u001b[0m\u001b[1;33m\u001b[0m\u001b[1;33m\u001b[0m\u001b[0m\n",
      "\u001b[1;32m~\\anaconda3\\lib\\site-packages\\numpy\\core\\multiarray.py\u001b[0m in \u001b[0;36m<module>\u001b[1;34m\u001b[0m\n\u001b[0;32m     11\u001b[0m \u001b[1;33m\u001b[0m\u001b[0m\n\u001b[1;32m---> 12\u001b[1;33m \u001b[1;32mfrom\u001b[0m \u001b[1;33m.\u001b[0m \u001b[1;32mimport\u001b[0m \u001b[0moverrides\u001b[0m\u001b[1;33m\u001b[0m\u001b[1;33m\u001b[0m\u001b[0m\n\u001b[0m\u001b[0;32m     13\u001b[0m \u001b[1;32mfrom\u001b[0m \u001b[1;33m.\u001b[0m \u001b[1;32mimport\u001b[0m \u001b[0m_multiarray_umath\u001b[0m\u001b[1;33m\u001b[0m\u001b[1;33m\u001b[0m\u001b[0m\n",
      "\u001b[1;32m~\\anaconda3\\lib\\site-packages\\numpy\\core\\overrides.py\u001b[0m in \u001b[0;36m<module>\u001b[1;34m\u001b[0m\n\u001b[0;32m      6\u001b[0m \u001b[1;33m\u001b[0m\u001b[0m\n\u001b[1;32m----> 7\u001b[1;33m from numpy.core._multiarray_umath import (\n\u001b[0m\u001b[0;32m      8\u001b[0m     add_docstring, implement_array_function, _get_implementing_args)\n",
      "\u001b[1;31mImportError\u001b[0m: DLL load failed while importing _multiarray_umath: The specified module could not be found.",
      "\nDuring handling of the above exception, another exception occurred:\n",
      "\u001b[1;31mImportError\u001b[0m                               Traceback (most recent call last)",
      "\u001b[1;32m~\\AppData\\Local\\Temp\\ipykernel_4668\\1156158462.py\u001b[0m in \u001b[0;36m<module>\u001b[1;34m\u001b[0m\n\u001b[1;32m----> 1\u001b[1;33m \u001b[1;32mimport\u001b[0m \u001b[0mmatplotlib\u001b[0m\u001b[1;33m.\u001b[0m\u001b[0mpyplot\u001b[0m \u001b[1;32mas\u001b[0m \u001b[0mplt\u001b[0m\u001b[1;33m\u001b[0m\u001b[1;33m\u001b[0m\u001b[0m\n\u001b[0m\u001b[0;32m      2\u001b[0m \u001b[1;32mimport\u001b[0m \u001b[0mpandas\u001b[0m \u001b[1;32mas\u001b[0m \u001b[0mpd\u001b[0m\u001b[1;33m\u001b[0m\u001b[1;33m\u001b[0m\u001b[0m\n\u001b[0;32m      3\u001b[0m \u001b[1;32mimport\u001b[0m \u001b[0mnumpy\u001b[0m \u001b[1;32mas\u001b[0m \u001b[0mnp\u001b[0m\u001b[1;33m\u001b[0m\u001b[1;33m\u001b[0m\u001b[0m\n\u001b[0;32m      4\u001b[0m \u001b[1;32mimport\u001b[0m \u001b[0mmath\u001b[0m\u001b[1;33m\u001b[0m\u001b[1;33m\u001b[0m\u001b[0m\n\u001b[0;32m      5\u001b[0m \u001b[1;32mfrom\u001b[0m \u001b[0mscipy\u001b[0m\u001b[1;33m.\u001b[0m\u001b[0mstats\u001b[0m \u001b[1;32mimport\u001b[0m \u001b[0mnorm\u001b[0m\u001b[1;33m\u001b[0m\u001b[1;33m\u001b[0m\u001b[0m\n",
      "\u001b[1;32m~\\anaconda3\\lib\\site-packages\\matplotlib\\__init__.py\u001b[0m in \u001b[0;36m<module>\u001b[1;34m\u001b[0m\n\u001b[0;32m    102\u001b[0m \u001b[1;32mimport\u001b[0m \u001b[0mwarnings\u001b[0m\u001b[1;33m\u001b[0m\u001b[1;33m\u001b[0m\u001b[0m\n\u001b[0;32m    103\u001b[0m \u001b[1;33m\u001b[0m\u001b[0m\n\u001b[1;32m--> 104\u001b[1;33m \u001b[1;32mimport\u001b[0m \u001b[0mnumpy\u001b[0m\u001b[1;33m\u001b[0m\u001b[1;33m\u001b[0m\u001b[0m\n\u001b[0m\u001b[0;32m    105\u001b[0m \u001b[1;32mfrom\u001b[0m \u001b[0mpackaging\u001b[0m\u001b[1;33m.\u001b[0m\u001b[0mversion\u001b[0m \u001b[1;32mimport\u001b[0m \u001b[0mparse\u001b[0m \u001b[1;32mas\u001b[0m \u001b[0mparse_version\u001b[0m\u001b[1;33m\u001b[0m\u001b[1;33m\u001b[0m\u001b[0m\n\u001b[0;32m    106\u001b[0m \u001b[1;33m\u001b[0m\u001b[0m\n",
      "\u001b[1;32m~\\anaconda3\\lib\\site-packages\\numpy\\__init__.py\u001b[0m in \u001b[0;36m<module>\u001b[1;34m\u001b[0m\n\u001b[0;32m    148\u001b[0m     \u001b[1;32mfrom\u001b[0m \u001b[1;33m.\u001b[0m \u001b[1;32mimport\u001b[0m \u001b[0m_distributor_init\u001b[0m\u001b[1;33m\u001b[0m\u001b[1;33m\u001b[0m\u001b[0m\n\u001b[0;32m    149\u001b[0m \u001b[1;33m\u001b[0m\u001b[0m\n\u001b[1;32m--> 150\u001b[1;33m     \u001b[1;32mfrom\u001b[0m \u001b[1;33m.\u001b[0m \u001b[1;32mimport\u001b[0m \u001b[0mcore\u001b[0m\u001b[1;33m\u001b[0m\u001b[1;33m\u001b[0m\u001b[0m\n\u001b[0m\u001b[0;32m    151\u001b[0m     \u001b[1;32mfrom\u001b[0m \u001b[1;33m.\u001b[0m\u001b[0mcore\u001b[0m \u001b[1;32mimport\u001b[0m \u001b[1;33m*\u001b[0m\u001b[1;33m\u001b[0m\u001b[1;33m\u001b[0m\u001b[0m\n\u001b[0;32m    152\u001b[0m     \u001b[1;32mfrom\u001b[0m \u001b[1;33m.\u001b[0m \u001b[1;32mimport\u001b[0m \u001b[0mcompat\u001b[0m\u001b[1;33m\u001b[0m\u001b[1;33m\u001b[0m\u001b[0m\n",
      "\u001b[1;32m~\\anaconda3\\lib\\site-packages\\numpy\\core\\__init__.py\u001b[0m in \u001b[0;36m<module>\u001b[1;34m\u001b[0m\n\u001b[0;32m     46\u001b[0m \"\"\" % (sys.version_info[0], sys.version_info[1], sys.executable,\n\u001b[0;32m     47\u001b[0m         __version__, exc)\n\u001b[1;32m---> 48\u001b[1;33m     \u001b[1;32mraise\u001b[0m \u001b[0mImportError\u001b[0m\u001b[1;33m(\u001b[0m\u001b[0mmsg\u001b[0m\u001b[1;33m)\u001b[0m\u001b[1;33m\u001b[0m\u001b[1;33m\u001b[0m\u001b[0m\n\u001b[0m\u001b[0;32m     49\u001b[0m \u001b[1;32mfinally\u001b[0m\u001b[1;33m:\u001b[0m\u001b[1;33m\u001b[0m\u001b[1;33m\u001b[0m\u001b[0m\n\u001b[0;32m     50\u001b[0m     \u001b[1;32mfor\u001b[0m \u001b[0menvkey\u001b[0m \u001b[1;32min\u001b[0m \u001b[0menv_added\u001b[0m\u001b[1;33m:\u001b[0m\u001b[1;33m\u001b[0m\u001b[1;33m\u001b[0m\u001b[0m\n",
      "\u001b[1;31mImportError\u001b[0m: \n\nIMPORTANT: PLEASE READ THIS FOR ADVICE ON HOW TO SOLVE THIS ISSUE!\n\nImporting the numpy C-extensions failed. This error can happen for\nmany reasons, often due to issues with your setup or how NumPy was\ninstalled.\n\nWe have compiled some common reasons and troubleshooting tips at:\n\n    https://numpy.org/devdocs/user/troubleshooting-importerror.html\n\nPlease note and check the following:\n\n  * The Python version is: Python3.9 from \"C:\\Users\\markr\\anaconda3\\python.exe\"\n  * The NumPy version is: \"1.21.5\"\n\nand make sure that they are the versions you expect.\nPlease carefully study the documentation linked above for further help.\n\nOriginal error was: DLL load failed while importing _multiarray_umath: The specified module could not be found.\n"
     ]
    }
   ],
   "source": [
    "import matplotlib.pyplot as plt\n",
    "import pandas as pd\n",
    "import numpy as np\n",
    "import math\n",
    "from scipy.stats import norm\n",
    "from sklearn.cluster import KMeans"
   ]
  },
  {
   "cell_type": "markdown",
   "id": "af7efa41",
   "metadata": {},
   "source": [
    "## Data Plotting/Visualization"
   ]
  },
  {
   "cell_type": "code",
   "execution_count": null,
   "id": "f3408af5",
   "metadata": {},
   "outputs": [],
   "source": [
    "dframe = pd.read_csv(\"../data/X001_droplet_amplitudes.csv\", header=0)\n",
    "cluster0 = dframe[dframe['Cluster_1'] == 0]['Ch1'].to_numpy() # create numpy array for calculations\n",
    "cluster1 = dframe[dframe['Cluster_1'] == 1]['Ch1'].to_numpy()\n",
    "# Start with a square Figure.\n",
    "fig = plt.figure(figsize=(6, 6))\n",
    "# Add a gridspec with two rows and two columns and a ratio of 1 to 4 between\n",
    "# the size of the marginal axes and the main axes in both directions.\n",
    "# Also adjust the subplot parameters for a square plot.\n",
    "gs = fig.add_gridspec(2, 2,  width_ratios=(4, 1), height_ratios=(1, 4),\n",
    "                      left=0.1, right=0.9, bottom=0.1, top=0.9,\n",
    "                      wspace=0.05, hspace=0.05)\n",
    "# Create the Axes.\n",
    "ax = fig.add_subplot(gs[1, 0])\n",
    "ax_histy = fig.add_subplot(gs[1, 1], sharey=ax)\n",
    "\n",
    "ax_histy.tick_params(axis=\"y\", labelleft=False)\n",
    "# Draw the scatter plot and marginals.\n",
    "colors_dict = {0: 'r', 1: 'b'}\n",
    "colors = [colors_dict[id] for id in dframe['Cluster_1']]\n",
    "ax.scatter(dframe[\"droplet\"], dframe[\"Ch1\"], s=0.5, c=colors)\n",
    "ax.set_xlabel(\"sample\")\n",
    "ax.set_ylabel(\"Channel 1 sample value\")\n",
    "\n",
    "ybins = np.linspace(0, 5500, 100)\n",
    "ax_histy.hist(cluster0, bins=ybins, orientation='horizontal', color='r')\n",
    "ax_histy.hist(cluster1, bins=ybins, orientation='horizontal', color='b')\n",
    "plt.show()"
   ]
  },
  {
   "cell_type": "code",
   "execution_count": null,
   "id": "956a64c6",
   "metadata": {},
   "outputs": [],
   "source": [
    "bins = np.linspace(0, 6000, 100)\n",
    "fig2 = plt.figure(2, figsize=[10,5])\n",
    "ax1 = fig2.add_subplot(121)\n",
    "ax2 = fig2.add_subplot(122)\n",
    "bins = np.linspace(np.min(cluster0), np.max(cluster0), 100)\n",
    "ax1.hist(cluster0, bins, label = 'cluster 0', color='r')\n",
    "bins = np.linspace(np.min(cluster1), np.max(cluster1), 100)\n",
    "ax2.hist(cluster1, bins, label = 'cluster 1', color='b')\n",
    "ax1.set_xlabel(\"Ch1 signal\")\n",
    "ax2.set_xlabel(\"Ch1 signal\")\n",
    "ax1.set_ylabel(\"frequency\")\n",
    "ax1.set_title(\"Cluster 0 freq. Distribution\")\n",
    "ax2.set_title(\"Cluster 1 freq. Distribution\")\n",
    "plt.show()"
   ]
  },
  {
   "cell_type": "markdown",
   "id": "0db81ee4",
   "metadata": {},
   "source": [
    "## Data Statistics for Each Cluster (using pre-marked data)"
   ]
  },
  {
   "cell_type": "code",
   "execution_count": null,
   "id": "de1ffcb1",
   "metadata": {},
   "outputs": [],
   "source": [
    "cluster0_df = dframe[dframe['Cluster_1'] == 0]['Ch1']\n",
    "cluster1_df = dframe[dframe['Cluster_1'] == 1]['Ch1']\n",
    "print(\"________________________________\")\n",
    "print(\"Summary Statistics for Cluster 0\")\n",
    "print(\"================================\")\n",
    "print(cluster0_df.describe())\n",
    "print(\"________________________________\")\n",
    "print(\"Summary Statistics for Cluster 1\")\n",
    "print(\"================================\")\n",
    "print(cluster1_df.describe())"
   ]
  },
  {
   "cell_type": "code",
   "execution_count": null,
   "id": "c49f7ecd",
   "metadata": {},
   "outputs": [],
   "source": [
    "# to verify our mean and stdev. let's try fitting a basic normal distribution to see how skewed the data is:\n",
    "bins = np.linspace(0, 6000, 100)\n",
    "fig2 = plt.figure(2, figsize=[10,5])\n",
    "ax1 = fig2.add_subplot(121)\n",
    "ax2 = fig2.add_subplot(122)\n",
    "bins = np.linspace(np.min(cluster0), np.max(cluster0), 100)\n",
    "ax1.hist(cluster0, bins, label = 'cluster 0', color='r', density=True, alpha=0.5)\n",
    "ax1.plot(bins, norm.pdf(bins, np.mean(cluster0), np.std(cluster0)), c='r')\n",
    "bins = np.linspace(np.min(cluster1), np.max(cluster1), 100)\n",
    "ax2.hist(cluster1, bins, label = 'cluster 1', color='b', density=True, alpha=0.5)\n",
    "ax2.plot(bins, norm.pdf(bins, np.mean(cluster1), np.std(cluster1)), c='b')\n",
    "ax1.set_xlabel(\"Ch1 signal\")\n",
    "ax2.set_xlabel(\"Ch1 signal\")\n",
    "ax1.set_ylabel(\"frequency\")\n",
    "ax1.set_title(\"Cluster 0 freq. Distribution\")\n",
    "ax2.set_title(\"Cluster 1 freq. Distribution\")\n",
    "plt.show()"
   ]
  },
  {
   "cell_type": "markdown",
   "id": "aa9a381a",
   "metadata": {},
   "source": [
    "## Initial sklearn Proof-of-Concept Classification"
   ]
  },
  {
   "cell_type": "code",
   "execution_count": null,
   "id": "a0791f0b",
   "metadata": {},
   "outputs": [],
   "source": [
    "K = 2\n",
    "X = dframe['Ch1'].to_numpy().reshape(-1, 1)\n",
    "true_y = dframe[\"Cluster_1\"].to_numpy()\n",
    "clustering = KMeans(n_clusters=K)\n",
    "clustering.fit(X)\n",
    "predictions = clustering.predict(X)\n",
    "centers = clustering.cluster_centers_\n",
    "if centers[0,0] < centers[1,0]: # flip so that cluster \"0\" corresponds to the \n",
    "    predictions = np.logical_not(predictions) # cluster with lowest mean value\n",
    "\n",
    "overlap = predictions == true_y\n",
    "true_overlap = overlap[overlap == 0]\n",
    "frac_correct = len(true_overlap)/len(overlap)\n",
    "\n",
    "print(f\"Fraction of points correctly classified: {frac_correct}\")"
   ]
  }
 ],
 "metadata": {
  "kernelspec": {
   "display_name": "Python 3 (ipykernel)",
   "language": "python",
   "name": "python3"
  },
  "language_info": {
   "codemirror_mode": {
    "name": "ipython",
    "version": 3
   },
   "file_extension": ".py",
   "mimetype": "text/x-python",
   "name": "python",
   "nbconvert_exporter": "python",
   "pygments_lexer": "ipython3",
   "version": "3.9.13"
  }
 },
 "nbformat": 4,
 "nbformat_minor": 5
}
